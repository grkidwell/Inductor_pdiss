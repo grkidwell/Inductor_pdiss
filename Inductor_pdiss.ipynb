{
  "nbformat": 4,
  "nbformat_minor": 0,
  "metadata": {
    "colab": {
      "name": "Inductor_pdiss.ipynb",
      "version": "0.3.2",
      "provenance": [],
      "collapsed_sections": [],
      "toc_visible": true,
      "include_colab_link": true
    },
    "kernelspec": {
      "name": "python3",
      "display_name": "Python 3",
      "language": "python"
    }
  },
  "cells": [
    {
      "cell_type": "markdown",
      "metadata": {
        "id": "view-in-github",
        "colab_type": "text"
      },
      "source": [
        "<a href=\"https://colab.research.google.com/github/grkidwell/Inductor_pdiss/blob/master/Inductor_pdiss.ipynb\" target=\"_parent\"><img src=\"https://colab.research.google.com/assets/colab-badge.svg\" alt=\"Open In Colab\"/></a>"
      ]
    },
    {
      "metadata": {
        "id": "PKiknHae4CXr",
        "colab_type": "text"
      },
      "cell_type": "markdown",
      "source": [
        "# Inductor Power Dissipation"
      ]
    },
    {
      "metadata": {
        "id": "mge2qjWT4CXx",
        "colab_type": "text"
      },
      "cell_type": "markdown",
      "source": [
        "\n",
        "### Libraries"
      ]
    },
    {
      "metadata": {
        "trusted": true,
        "id": "zb_nwDYB4CX1",
        "colab_type": "code",
        "colab": {}
      },
      "cell_type": "code",
      "source": [
        "import matplotlib.pyplot as plt\n",
        "import numpy as np\n",
        "from google.colab import drive, files\n",
        "from IPython.display import Image\n",
        "\n"
      ],
      "execution_count": 0,
      "outputs": []
    },
    {
      "metadata": {
        "id": "FQm5qAy5pc6-",
        "colab_type": "code",
        "colab": {}
      },
      "cell_type": "code",
      "source": [
        "#!pip install -U -q PyDrive\n",
        "#from pydrive.auth import GoogleAuth\n",
        "#from pydrive.drive import GoogleDrive\n",
        "from google.colab import auth\n",
        "#from oauth2client.client import GoogleCredentials\n"
      ],
      "execution_count": 0,
      "outputs": []
    },
    {
      "metadata": {
        "id": "WjEebsB_YUWr",
        "colab_type": "code",
        "colab": {
          "base_uri": "https://localhost:8080/",
          "height": 198
        },
        "outputId": "fdae81c0-babc-4377-ab1c-0d8c19fd51eb"
      },
      "cell_type": "code",
      "source": [
        "auth.authenticate_user()\n",
        "#gauth = GoogleAuth()\n",
        "#gauth.LocalWebserverAuth()\n",
        "#gauth.credentials = GoogleCredentials.get_application_default()\n",
        "#drive = GoogleDrive(gauth)"
      ],
      "execution_count": 27,
      "outputs": [
        {
          "output_type": "error",
          "ename": "NameError",
          "evalue": "ignored",
          "traceback": [
            "\u001b[0;31m---------------------------------------------------------------------------\u001b[0m",
            "\u001b[0;31mNameError\u001b[0m                                 Traceback (most recent call last)",
            "\u001b[0;32m<ipython-input-27-09999c2a7018>\u001b[0m in \u001b[0;36m<module>\u001b[0;34m()\u001b[0m\n\u001b[1;32m      3\u001b[0m \u001b[0;31m#gauth.LocalWebserverAuth()\u001b[0m\u001b[0;34m\u001b[0m\u001b[0;34m\u001b[0m\u001b[0;34m\u001b[0m\u001b[0m\n\u001b[1;32m      4\u001b[0m \u001b[0;31m#gauth.credentials = GoogleCredentials.get_application_default()\u001b[0m\u001b[0;34m\u001b[0m\u001b[0;34m\u001b[0m\u001b[0;34m\u001b[0m\u001b[0m\n\u001b[0;32m----> 5\u001b[0;31m \u001b[0mdrive\u001b[0m \u001b[0;34m=\u001b[0m \u001b[0mGoogleDrive\u001b[0m\u001b[0;34m(\u001b[0m\u001b[0mgauth\u001b[0m\u001b[0;34m)\u001b[0m\u001b[0;34m\u001b[0m\u001b[0;34m\u001b[0m\u001b[0m\n\u001b[0m",
            "\u001b[0;31mNameError\u001b[0m: name 'GoogleDrive' is not defined"
          ]
        }
      ]
    },
    {
      "metadata": {
        "id": "mvXREqhdrMt2",
        "colab_type": "text"
      },
      "cell_type": "markdown",
      "source": [
        "###Inductor Specs"
      ]
    },
    {
      "metadata": {
        "id": "udGln8KarUQo",
        "colab_type": "code",
        "outputId": "8b26f891-4563-4e30-d734-5506d533f1a6",
        "colab": {
          "base_uri": "https://localhost:8080/",
          "height": 34
        }
      },
      "cell_type": "code",
      "source": [
        "drive.mount('/content/gdrive',force_remount=True)\n",
        "#PATH_OF_DATA= '/content/gdrive/My Drive/public'\n",
        "#!ls {PATH_OF_DATA}\n",
        "#uploaded=files.upload()"
      ],
      "execution_count": 24,
      "outputs": [
        {
          "output_type": "stream",
          "text": [
            "Mounted at /content/gdrive\n"
          ],
          "name": "stdout"
        }
      ]
    },
    {
      "metadata": {
        "id": "ywjZMLn4cDzP",
        "colab_type": "code",
        "colab": {
          "base_uri": "https://localhost:8080/",
          "height": 51
        },
        "outputId": "a77c63a4-e0cd-4c59-d047-6397ea705375"
      },
      "cell_type": "code",
      "source": [
        "PATH_OF_DATA= '/content/gdrive/\"My Drive\"'\n",
        "!ls {PATH_OF_DATA}"
      ],
      "execution_count": 26,
      "outputs": [
        {
          "output_type": "stream",
          "text": [
            "'A-Day Assignments.gdoc'   Bible     History   photos\n",
            "'B-Day Assignments.gdoc'   English   Math      Science\n"
          ],
          "name": "stdout"
        }
      ]
    },
    {
      "metadata": {
        "id": "uqJAeoQOrVP0",
        "colab_type": "text"
      },
      "cell_type": "markdown",
      "source": [
        "![Colaboraty](https://drive.google.com/id=1s_EjtTuGfE0rZpS23BfHwYIAgdDGFYPX)"
      ]
    },
    {
      "metadata": {
        "id": "m0ObEqx-sQt1",
        "colab_type": "text"
      },
      "cell_type": "markdown",
      "source": [
        "![duh](https://drive.google.com/open?id=1s_EjtTuGfE0rZpS23BfHwYIAgdDGFYPX)"
      ]
    },
    {
      "metadata": {
        "id": "onUDQ1S1qv88",
        "colab_type": "code",
        "colab": {}
      },
      "cell_type": "code",
      "source": [
        "#display(Image(https://drive.google.com/drive/folders/0B4FkCeAbzcM7RzhaM21sN05HRVE))"
      ],
      "execution_count": 0,
      "outputs": []
    },
    {
      "metadata": {
        "id": "QOSs1VC-CHiK",
        "colab_type": "code",
        "outputId": "08cf797a-b09d-498d-8c10-2a189d569c5a",
        "colab": {
          "base_uri": "https://localhost:8080/",
          "height": 34
        }
      },
      "cell_type": "code",
      "source": [
        "Image('/content/gdrive/My Drive/public/CMLB053.PNG', width=800)"
      ],
      "execution_count": 0,
      "outputs": [
        {
          "output_type": "execute_result",
          "data": {
            "image/png": "/content/gdrive/My Drive/public/CMLB053.PNG",
            "text/plain": [
              "<IPython.core.display.Image object>"
            ]
          },
          "metadata": {
            "tags": [],
            "image/png": {
              "width": 800
            }
          },
          "execution_count": 5
        }
      ]
    },
    {
      "metadata": {
        "id": "xJuP3q3Prg2c",
        "colab_type": "code",
        "outputId": "5292083a-61e5-4d04-a93b-e7ac8aa7db0f",
        "colab": {
          "base_uri": "https://localhost:8080/",
          "height": 34
        }
      },
      "cell_type": "code",
      "source": [
        "Image('/content/gdrive/My Drive/Colab Notebooks/CMLB063.PNG', width=800)"
      ],
      "execution_count": 0,
      "outputs": [
        {
          "output_type": "execute_result",
          "data": {
            "image/png": "/content/gdrive/My Drive/Colab Notebooks/CMLB063.PNG",
            "text/plain": [
              "<IPython.core.display.Image object>"
            ]
          },
          "metadata": {
            "tags": [],
            "image/png": {
              "width": 800
            }
          },
          "execution_count": 6
        }
      ]
    },
    {
      "metadata": {
        "trusted": true,
        "id": "WKjjC2044CX6",
        "colab_type": "code",
        "colab": {}
      },
      "cell_type": "code",
      "source": [
        "#Cyntec CMLB053T 5x5x3mm family\n",
        "\n",
        "#                     X,Y,Z    Lout     DCR     k1       k2       k3     k4\n",
        "Lparam_5x5x3_0R56 = (\"5x5x3\",  560e-9, .008,  7.14e-4, 1.028, 0.00956, 2.518)\n",
        "Lparam_5x5x3_0R68 = (\"5x5x3\",  680e-9, .0086, 7.15e-4, 1.028, 0.01060, 2.518)\n",
        "Lparam_5x5x3_1R0  = (\"5x5x3\", 1000e-9, .011,  6.42e-4, 1.028, 0.01465, 2.518)\n",
        "Lparam_5x5x3_1R5  = (\"5x5x3\", 1500e-9, .0185,  6.57e-4, 1.028, 0.01562, 2.518)\n",
        "\n",
        "\n",
        "#Cyntec CMLB063T 6x6x3mm family\n",
        "\n",
        "#                    X,Y,Z     Lout     DCR     k1       k2       k3     k4\n",
        "Lparam_7x7x3_1R0 = (\"7x7x3\", 1000e-9, .007,  1.42e-3, 1.028, 0.00923, 2.518)\n",
        "Lparam_7x7x3_1R5 = (\"7x7x3\", 1500e-9, .010,  1.28e-3, 1.028, 0.01124, 2.518)\n",
        "Lparam_7x7x3_2R2 = (\"7x7x3\", 2200e-9, .014,  1.43e-3, 1.028, 0.01373, 2.518)"
      ],
      "execution_count": 0,
      "outputs": []
    },
    {
      "metadata": {
        "id": "zGce3xHl4CX4",
        "colab_type": "text"
      },
      "cell_type": "markdown",
      "source": [
        "### Parameters"
      ]
    },
    {
      "metadata": {
        "trusted": true,
        "id": "ClRV4RaH4CX9",
        "colab_type": "code",
        "colab": {}
      },
      "cell_type": "code",
      "source": [
        "\n",
        "Padaptor = 65\n",
        "Vin_nom  = 20\n",
        "Vout_nom = 7.4\n",
        "Iout_nom = Padaptor/Vout_nom*.95\n",
        "Fs_nom   = 1e6\n",
        "   "
      ],
      "execution_count": 0,
      "outputs": []
    },
    {
      "metadata": {
        "id": "tpl51klq4CX8",
        "colab_type": "text"
      },
      "cell_type": "markdown",
      "source": [
        "### Functions and Classes"
      ]
    },
    {
      "metadata": {
        "id": "_2_3auMncz3X",
        "colab_type": "code",
        "colab": {}
      },
      "cell_type": "code",
      "source": [
        "  \n",
        "    \n",
        "              \n",
        "class Inductor_CCM:\n",
        "    \n",
        "    def __init__(self, vin=Vin_nom, vout=Vout_nom, iout=Iout_nom, fs=Fs_nom, \n",
        "                 Lparam=Lparam_5x5x3_1R0):\n",
        "        self.vin  = vin\n",
        "        self.vout = vout\n",
        "        self.idc  = iout\n",
        "        self.fs   = fs\n",
        "        \n",
        "        self.xyz = Lparam[0]\n",
        "        self.lout= Lparam[1]\n",
        "        self.dcr = Lparam[2]    \n",
        "        self.k1  = Lparam[3]\n",
        "        self.k2  = Lparam[4]\n",
        "        self.k3  = Lparam[5]\n",
        "        self.k4  = Lparam[6]\n",
        "        \n",
        "        self.ipp   = (self.vin-self.vout)*self.vout/self.vin/self.lout/self.fs\n",
        "        self.irms  = (self.idc**2+(self.ipp**2)/12)**0.5\n",
        "        self.pcore = self.k1*self.fs**self.k2*(self.k3*self.ipp)**self.k4\n",
        "        self.pdc   = self.dcr*self.irms**2\n",
        "        self.tot   = self.pcore+self.pdc \n",
        "        \n",
        "   #     self.losses = [self.pdc, self.pcore, self.tot]    \n",
        "        \n",
        "    def losses(self):\n",
        "        print(\"%s, %2.1fuH   %3.3fMHz  %3.3fW   %3.3fW   %3.3fW\" % \n",
        "              (self.xyz,self.lout*1e6,self.fs/1e6, self.pdc, self.pcore, self.tot))\n",
        "        \n",
        "\n",
        "\n",
        " "
      ],
      "execution_count": 0,
      "outputs": []
    },
    {
      "metadata": {
        "id": "kTKOeGxczTyy",
        "colab_type": "text"
      },
      "cell_type": "markdown",
      "source": [
        "### Results"
      ]
    },
    {
      "metadata": {
        "id": "SvnTdNQw4Fhs",
        "colab_type": "text"
      },
      "cell_type": "markdown",
      "source": [
        "$Ptotal = Irms^2\\cdot DCR + k1\\cdot {Fs}^{k2}({k3\\cdot \\Delta I})^{k4}$"
      ]
    },
    {
      "metadata": {
        "id": "_i_eMTT0vX6O",
        "colab_type": "code",
        "outputId": "0e092e42-dc4d-4e69-c75d-385d7821b3d6",
        "colab": {
          "base_uri": "https://localhost:8080/",
          "height": 224
        }
      },
      "cell_type": "code",
      "source": [
        "print(\" XYZ    Lout    Fs        Pdc     Pcore    Ptotal\")\n",
        "Inductor_CCM(fs=1.5e6,Lparam=Lparam_5x5x3_1R0).losses()\n",
        "Inductor_CCM(fs=1.0e6,Lparam=Lparam_5x5x3_1R0).losses()\n",
        "Inductor_CCM(fs=0.777e6,Lparam=Lparam_5x5x3_1R0).losses()\n",
        "print(\"\")\n",
        "Inductor_CCM(fs=1.5e6,Lparam=Lparam_5x5x3_1R5).losses()\n",
        "Inductor_CCM(fs=1.0e6,Lparam=Lparam_5x5x3_1R5).losses()\n",
        "print(\"\")\n",
        "Inductor_CCM(fs=0.777e6,Lparam=Lparam_7x7x3_1R0).losses()\n",
        "Inductor_CCM(fs=0.777e6,Lparam=Lparam_7x7x3_1R5).losses()\n",
        "Inductor_CCM(fs=0.777e6,Lparam=Lparam_7x7x3_2R2).losses()\n",
        "\n"
      ],
      "execution_count": 0,
      "outputs": [
        {
          "output_type": "stream",
          "text": [
            " XYZ    Lout    Fs        Pdc     Pcore    Ptotal\n",
            "5x5x3, 1.0uH   1.500MHz  0.775W   0.600W   1.375W\n",
            "5x5x3, 1.0uH   1.000MHz  0.786W   1.098W   1.884W\n",
            "5x5x3, 1.0uH   0.777MHz  0.799W   1.599W   2.398W\n",
            "\n",
            "5x5x3, 1.5uH   1.500MHz  1.295W   0.260W   1.555W\n",
            "5x5x3, 1.5uH   1.000MHz  1.303W   0.476W   1.779W\n",
            "\n",
            "7x7x3, 1.0uH   0.777MHz  0.508W   1.105W   1.614W\n",
            "7x7x3, 1.5uH   0.777MHz  0.710W   0.589W   1.299W\n",
            "7x7x3, 2.2uH   0.777MHz  0.984W   0.415W   1.399W\n"
          ],
          "name": "stdout"
        }
      ]
    },
    {
      "metadata": {
        "id": "mWddZ_ShPo2h",
        "colab_type": "text"
      },
      "cell_type": "markdown",
      "source": [
        "###3S Battery"
      ]
    },
    {
      "metadata": {
        "id": "y9ElEAdoyphm",
        "colab_type": "code",
        "colab": {}
      },
      "cell_type": "code",
      "source": [
        "Inductor_3S_1p5uH=Inductor_CCM(fs=1.5e6,Lparam=Lparam_5x5x3_1R5,vout=11.1,iout=65/11.1*.95)"
      ],
      "execution_count": 0,
      "outputs": []
    },
    {
      "metadata": {
        "id": "Yp7sQlLpOIev",
        "colab_type": "code",
        "outputId": "488b1fe4-5deb-4485-e646-f2cae4f6ce2a",
        "colab": {
          "base_uri": "https://localhost:8080/",
          "height": 54
        }
      },
      "cell_type": "code",
      "source": [
        "Inductor_3S_1p5uH.losses()"
      ],
      "execution_count": 0,
      "outputs": [
        {
          "output_type": "stream",
          "text": [
            "5x5x3, 1.5uH   1.500MHz  0.580W   0.301W   0.881W\n"
          ],
          "name": "stdout"
        }
      ]
    },
    {
      "metadata": {
        "id": "tZZ38EJcOgN6",
        "colab_type": "code",
        "outputId": "424cb5a2-aac8-4f6a-d851-2f9a05ec0368",
        "colab": {
          "base_uri": "https://localhost:8080/",
          "height": 54
        }
      },
      "cell_type": "code",
      "source": [
        "Inductor_3S_1p5uH.ipp\n"
      ],
      "execution_count": 0,
      "outputs": [
        {
          "output_type": "execute_result",
          "data": {
            "text/plain": [
              "2.1953333333333336"
            ]
          },
          "metadata": {
            "tags": []
          },
          "execution_count": 13
        }
      ]
    },
    {
      "metadata": {
        "id": "KdOoKD56PDjx",
        "colab_type": "code",
        "colab": {}
      },
      "cell_type": "code",
      "source": [
        "\n"
      ],
      "execution_count": 0,
      "outputs": []
    }
  ]
}